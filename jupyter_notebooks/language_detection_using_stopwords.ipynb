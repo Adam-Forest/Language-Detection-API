{
 "cells": [
  {
   "cell_type": "code",
   "execution_count": 26,
   "metadata": {},
   "outputs": [],
   "source": [
    "from nltk import word_tokenize\n",
    "from nltk.corpus import stopwords"
   ]
  },
  {
   "cell_type": "code",
   "execution_count": 27,
   "metadata": {},
   "outputs": [],
   "source": [
    "def _calculate_languages_ratios(text):\n",
    "\n",
    "#     Calculate probability of given text to be written in several languages and\n",
    "#     return a dictionary that looks like {'french': 2, 'spanish': 4, 'english': 0}\n",
    "\n",
    "    languages_ratios = {}\n",
    "\n",
    "    tokens = word_tokenize(text)\n",
    "    words = [word.lower() for word in tokens] # memove capitalization\n",
    "\n",
    "    # Compute per language included in nltk number of unique stopwords appearing in analyzed text\n",
    "    for language in stopwords.fileids():\n",
    "        stopwords_set = set(stopwords.words(language))\n",
    "        words_set = set(words)\n",
    "        common_elements = words_set.intersection(stopwords_set)\n",
    "\n",
    "        languages_ratios[language] = len(common_elements) # language \"score\"\n",
    "\n",
    "    return languages_ratios\n"
   ]
  },
  {
   "cell_type": "code",
   "execution_count": 28,
   "metadata": {},
   "outputs": [],
   "source": [
    "def detect_language(text):\n",
    "#   Calculate probability of given text to be written in several languages and\n",
    "#   return the highest scored.\n",
    "\n",
    "    ratios = _calculate_languages_ratios(text)\n",
    "    most_rated_language = max(ratios, key=ratios.get)\n",
    "    return most_rated_language\n"
   ]
  },
  {
   "cell_type": "code",
   "execution_count": 42,
   "metadata": {},
   "outputs": [
    {
     "name": "stdout",
     "output_type": "stream",
     "text": [
      "french\n",
      "\n",
      "mama\t\t Language:arabic\n",
      "mama mea\t Language:romanian\n",
      "mother\t\t Language:arabic\n",
      "my mother\t Language:english\n",
      "mere\t\t Language:arabic\n",
      "ma mère\t\t Language:english\n",
      "mon mère\t Language:french\n"
     ]
    }
   ],
   "source": [
    "if __name__=='__main__':\n",
    "\n",
    "    text = text = open(\"../selected/fr.txt\").read()\n",
    "    text0 = \"mama\"\n",
    "    text1 = \"mama mea\"\n",
    "    text2 = \"mother\"\n",
    "    text3 = \"my mother\"\n",
    "    text4 = \"mere\"\n",
    "    text5 = \"ma mère\"\n",
    "    text6 = \"mon mère\"\n",
    "    \n",
    "    \n",
    "    print(language)\n",
    "    language = detect_language(text0)\n",
    "    print(\"\\n\"+ text0+\"\\t\\t Language:\"+language)\n",
    "    language = detect_language(text1)\n",
    "    print(text1+\"\\t Language:\"+language)  \n",
    "    language = detect_language(text2)\n",
    "    print(text2+\"\\t\\t Language:\"+language) \n",
    "    language = detect_language(text3)\n",
    "    print(text3+\"\\t Language:\"+language)\n",
    "    language = detect_language(text4)\n",
    "    print(text4+\"\\t\\t Language:\"+language) \n",
    "    language = detect_language(text5)\n",
    "    print(text5+\"\\t\\t Language:\"+language)\n",
    "    language = detect_language(text6)\n",
    "    print(text6+\"\\t Language:\"+language)"
   ]
  },
  {
   "cell_type": "code",
   "execution_count": null,
   "metadata": {},
   "outputs": [],
   "source": []
  }
 ],
 "metadata": {
  "kernelspec": {
   "display_name": "Python [conda env:PythonData] *",
   "language": "python",
   "name": "conda-env-PythonData-py"
  },
  "language_info": {
   "codemirror_mode": {
    "name": "ipython",
    "version": 3
   },
   "file_extension": ".py",
   "mimetype": "text/x-python",
   "name": "python",
   "nbconvert_exporter": "python",
   "pygments_lexer": "ipython3",
   "version": "3.6.8"
  }
 },
 "nbformat": 4,
 "nbformat_minor": 2
}
