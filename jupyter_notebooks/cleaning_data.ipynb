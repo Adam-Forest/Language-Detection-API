{
 "cells": [
  {
   "cell_type": "code",
   "execution_count": null,
   "metadata": {},
   "outputs": [],
   "source": [
    "import glob\n",
    "import re"
   ]
  },
  {
   "cell_type": "markdown",
   "metadata": {},
   "source": [
    "## Combine extracted files"
   ]
  },
  {
   "cell_type": "code",
   "execution_count": null,
   "metadata": {},
   "outputs": [],
   "source": [
    "#concatenate all DE selected files into one text file: de.txt\n",
    "read_files = glob.glob(\"selected/en/wiki_*\")\n",
    "with open(\"selected/de.txt\", \"wb\") as outfile:\n",
    "    for f in read_files:\n",
    "        with open(f, \"rb\") as infile:\n",
    "            outfile.write(infile.read())"
   ]
  },
  {
   "cell_type": "code",
   "execution_count": null,
   "metadata": {},
   "outputs": [],
   "source": [
    "#concatenate all EN selected files into one text file: en.txt\n",
    "read_files = glob.glob(\"selected/en/wiki_*\")\n",
    "with open(\"selected/en.txt\", \"wb\") as outfile:\n",
    "    for f in read_files:\n",
    "        with open(f, \"rb\") as infile:\n",
    "            outfile.write(infile.read())"
   ]
  },
  {
   "cell_type": "code",
   "execution_count": null,
   "metadata": {},
   "outputs": [],
   "source": [
    "#concatenate all FR selected files into one text file: fr.txt\n",
    "read_files = glob.glob(\"selected/fr/wiki_*\")\n",
    "with open(\"selected/fr.txt\", \"wb\") as outfile:\n",
    "    for f in read_files:\n",
    "        with open(f, \"rb\") as infile:\n",
    "            outfile.write(infile.read())"
   ]
  },
  {
   "cell_type": "code",
   "execution_count": null,
   "metadata": {},
   "outputs": [],
   "source": [
    "#concatenate all RO selected files into one text file: ro.txt\n",
    "read_files = glob.glob(\"selected/ro/wiki_*\")\n",
    "with open(\"selected/ro.txt\", \"wb\") as outfile:\n",
    "    for f in read_files:\n",
    "        with open(f, \"rb\") as infile:\n",
    "            outfile.write(infile.read())"
   ]
  },
  {
   "cell_type": "markdown",
   "metadata": {},
   "source": [
    "## Clean files"
   ]
  },
  {
   "cell_type": "code",
   "execution_count": null,
   "metadata": {},
   "outputs": [],
   "source": [
    "# import string\n",
    "# print(string.punctuation)\n",
    "\n",
    "# output = open(\"de_output.txt\",\"w\")\n",
    "# input = open(\"de.txt\").read()\n",
    "\n",
    "# output.write(re.sub(r'<[^<]+?>', '', \n",
    "#                     input, \n",
    "#                     flags=re.M))\n",
    "# # output.write(re.sub(r'\\s+', ' ', \n",
    "# #                     input, \n",
    "# #                     flags=re.M))\n",
    "# #output.write(input.replace('\\n', ' '))\n",
    "# output.close()"
   ]
  },
  {
   "cell_type": "code",
   "execution_count": null,
   "metadata": {},
   "outputs": [],
   "source": [
    "# remove XML tags procedure, as </doc><doc id=\"2\" url=\"https://ro.wikipedia.org/wiki?curid=2\" title=\"Muzică\">\n",
    "def remove_xml(text):\n",
    "    return re.sub(r'<[^<]+?>', '', text)\n",
    "# remove punctuation\n",
    "def remove_punctuation(text):\n",
    "    return re.sub('[!)(#?,”.:\";“„0123456789%°»«/►*+<>…]', '', text)\n",
    "# remove new lines\n",
    "def remove_newlines(text):\n",
    "    return text.replace('\\n', ' ') \n",
    "# replace many spaces in text with one space\n",
    "def remove_manyspaces(text):\n",
    "    return re.sub(r'\\s+', ' ', text)\n",
    "\n",
    "# combine all removing procedures\n",
    "def clean_text(text):\n",
    "    text = remove_xml(text)\n",
    "    text = remove_punctuation(text)\n",
    "    text = remove_newlines(text)\n",
    "    text = remove_manyspaces(text)\n",
    "    return text\n",
    "\n",
    "#apply all substitutions to each individual language file\n",
    "\n",
    "output = open(\"de_clean.txt\",\"w\")\n",
    "text = open(\"selected/de.txt\").read()\n",
    "output.write(clean_text(text))\n",
    "output.close()\n",
    "\n",
    "output = open(\"fr_clean.txt\",\"w\")\n",
    "text = open(\"selected/fr.txt\").read()\n",
    "output.write(clean_text(text))\n",
    "output.close()\n",
    "\n",
    "output = open(\"en_clean.txt\",\"w\")\n",
    "text = open(\"selected/en.txt\").read()\n",
    "output.write(clean_text(text))\n",
    "output.close()\n",
    "\n",
    "output = open(\"ro_clean.txt\",\"w\")\n",
    "text = open(\"selected/ro.txt\").read()\n",
    "output.write(clean_text(text))\n",
    "output.close()"
   ]
  },
  {
   "cell_type": "code",
   "execution_count": null,
   "metadata": {},
   "outputs": [],
   "source": []
  }
 ],
 "metadata": {
  "kernelspec": {
   "display_name": "Python [conda env:PythonData] *",
   "language": "python",
   "name": "conda-env-PythonData-py"
  },
  "language_info": {
   "codemirror_mode": {
    "name": "ipython",
    "version": 3
   },
   "file_extension": ".py",
   "mimetype": "text/x-python",
   "name": "python",
   "nbconvert_exporter": "python",
   "pygments_lexer": "ipython3",
   "version": "3.6.8"
  }
 },
 "nbformat": 4,
 "nbformat_minor": 2
}
