{
 "cells": [
  {
   "cell_type": "code",
   "execution_count": 2,
   "metadata": {},
   "outputs": [],
   "source": [
    "from langdetect import detect_langs"
   ]
  },
  {
   "cell_type": "code",
   "execution_count": null,
   "metadata": {},
   "outputs": [],
   "source": [
    "def englishOrFrench(string):\n",
    "    res = detect_langs(string)\n",
    "    for item in res:\n",
    "        if item.lang == \"fr\" or item.lang == \"en\":\n",
    "            return item.lang\n",
    "    return None\n",
    "\n",
    "print(englishOrFrench(\"Bonjour\"))              # fr\n",
    "print(englishOrFrench(\"The quick brown fox\"))  # en\n",
    "print(englishOrFrench(\"Hallo, mein Freund\"))   # None\n"
   ]
  },
  {
   "cell_type": "code",
   "execution_count": 6,
   "metadata": {},
   "outputs": [
    {
     "name": "stdout",
     "output_type": "stream",
     "text": [
      "[sw:0.9999950114378386]\n"
     ]
    }
   ],
   "source": [
    "text=\"hi\"\n",
    "print(detect_langs(text))"
   ]
  },
  {
   "cell_type": "code",
   "execution_count": 7,
   "metadata": {},
   "outputs": [
    {
     "name": "stdout",
     "output_type": "stream",
     "text": [
      "[hr:0.5714268828210916, fr:0.4285703103636841]\n"
     ]
    }
   ],
   "source": [
    "text1 = \"bonjour\"\n",
    "print(detect_langs(text1))"
   ]
  },
  {
   "cell_type": "code",
   "execution_count": null,
   "metadata": {},
   "outputs": [],
   "source": []
  }
 ],
 "metadata": {
  "kernelspec": {
   "display_name": "Python [conda env:PythonData] *",
   "language": "python",
   "name": "conda-env-PythonData-py"
  },
  "language_info": {
   "codemirror_mode": {
    "name": "ipython",
    "version": 3
   },
   "file_extension": ".py",
   "mimetype": "text/x-python",
   "name": "python",
   "nbconvert_exporter": "python",
   "pygments_lexer": "ipython3",
   "version": "3.6.8"
  }
 },
 "nbformat": 4,
 "nbformat_minor": 2
}
