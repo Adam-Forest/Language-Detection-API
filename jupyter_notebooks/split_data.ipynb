{
 "cells": [
  {
   "cell_type": "code",
   "execution_count": 18,
   "metadata": {},
   "outputs": [],
   "source": [
    "from fsplit.filesplit import FileSplit\n"
   ]
  },
  {
   "cell_type": "code",
   "execution_count": 29,
   "metadata": {},
   "outputs": [],
   "source": [
    "f=open(\"./training/romanian/ro_clean.txt\", \"r\", encoding=\"utf8\")\n",
    "\n",
    "f_wrap=textwrap.fill(f.read(), 80)\n",
    "\n",
    "new_f= open(\"./training/romanian/ro_clean_wrap.txt\",\"w+\", encoding=\"utf8\")\n",
    "new_f.write(f_wrap)\n",
    "new_f.close()"
   ]
  },
  {
   "cell_type": "code",
   "execution_count": 30,
   "metadata": {},
   "outputs": [
    {
     "name": "stdout",
     "output_type": "stream",
     "text": [
      "file: ./training/romanian/split/ro_clean_wrap_1.txt, size: 1000064, count: 12043\n",
      "file: ./training/romanian/split/ro_clean_wrap_2.txt, size: 1000037, count: 12127\n",
      "file: ./training/romanian/split/ro_clean_wrap_3.txt, size: 1000038, count: 12124\n",
      "file: ./training/romanian/split/ro_clean_wrap_4.txt, size: 1000079, count: 12033\n",
      "file: ./training/romanian/split/ro_clean_wrap_5.txt, size: 1000035, count: 12117\n",
      "file: ./training/romanian/split/ro_clean_wrap_6.txt, size: 1000007, count: 12118\n",
      "file: ./training/romanian/split/ro_clean_wrap_7.txt, size: 1000007, count: 12103\n",
      "file: ./training/romanian/split/ro_clean_wrap_8.txt, size: 1000006, count: 12091\n",
      "file: ./training/romanian/split/ro_clean_wrap_9.txt, size: 1000015, count: 12098\n",
      "file: ./training/romanian/split/ro_clean_wrap_10.txt, size: 1000043, count: 12074\n",
      "file: ./training/romanian/split/ro_clean_wrap_11.txt, size: 1000062, count: 12080\n",
      "file: ./training/romanian/split/ro_clean_wrap_12.txt, size: 1000003, count: 12134\n",
      "file: ./training/romanian/split/ro_clean_wrap_13.txt, size: 1000002, count: 12114\n",
      "file: ./training/romanian/split/ro_clean_wrap_14.txt, size: 1000051, count: 12131\n",
      "file: ./training/romanian/split/ro_clean_wrap_15.txt, size: 255620, count: 3095\n"
     ]
    }
   ],
   "source": [
    "fs = FileSplit(file='./training/romanian/ro_clean_wrap.txt', splitsize=1000000, output_dir='./training/romanian/split/')\n",
    "\n",
    "def func(f, s, c):\n",
    "    print(\"file: {0}, size: {1}, count: {2}\".format(f, s, c))\n",
    "\n",
    "fs.split(callback=func)"
   ]
  },
  {
   "cell_type": "code",
   "execution_count": 23,
   "metadata": {},
   "outputs": [
    {
     "name": "stdout",
     "output_type": "stream",
     "text": [
      "file: ./training/english/split/en_clean_wrap_1.txt, size: 1000001, count: 12648\n",
      "file: ./training/english/split/en_clean_wrap_2.txt, size: 1000049, count: 12647\n",
      "file: ./training/english/split/en_clean_wrap_3.txt, size: 1000008, count: 12651\n",
      "file: ./training/english/split/en_clean_wrap_4.txt, size: 1000026, count: 12660\n",
      "file: ./training/english/split/en_clean_wrap_5.txt, size: 1000037, count: 12651\n",
      "file: ./training/english/split/en_clean_wrap_6.txt, size: 1000037, count: 12647\n",
      "file: ./training/english/split/en_clean_wrap_7.txt, size: 1000063, count: 12651\n",
      "file: ./training/english/split/en_clean_wrap_8.txt, size: 1000008, count: 12655\n",
      "file: ./training/english/split/en_clean_wrap_9.txt, size: 1000059, count: 12646\n",
      "file: ./training/english/split/en_clean_wrap_10.txt, size: 1000071, count: 12648\n",
      "file: ./training/english/split/en_clean_wrap_11.txt, size: 1000010, count: 12650\n",
      "file: ./training/english/split/en_clean_wrap_12.txt, size: 1000059, count: 12635\n",
      "file: ./training/english/split/en_clean_wrap_13.txt, size: 1000057, count: 12651\n",
      "file: ./training/english/split/en_clean_wrap_14.txt, size: 798295, count: 10098\n"
     ]
    }
   ],
   "source": []
  },
  {
   "cell_type": "code",
   "execution_count": 9,
   "metadata": {},
   "outputs": [
    {
     "data": {
      "text/plain": [
       "<fsplit.filesplit.FileSplit at 0x1cee4504710>"
      ]
     },
     "execution_count": 9,
     "metadata": {},
     "output_type": "execute_result"
    }
   ],
   "source": [
    "fs"
   ]
  },
  {
   "cell_type": "code",
   "execution_count": null,
   "metadata": {},
   "outputs": [],
   "source": []
  }
 ],
 "metadata": {
  "kernelspec": {
   "display_name": "Python [conda env:.conda-pythondata] *",
   "language": "python",
   "name": "conda-env-.conda-pythondata-py"
  },
  "language_info": {
   "codemirror_mode": {
    "name": "ipython",
    "version": 3
   },
   "file_extension": ".py",
   "mimetype": "text/x-python",
   "name": "python",
   "nbconvert_exporter": "python",
   "pygments_lexer": "ipython3",
   "version": "3.6.8"
  }
 },
 "nbformat": 4,
 "nbformat_minor": 2
}
