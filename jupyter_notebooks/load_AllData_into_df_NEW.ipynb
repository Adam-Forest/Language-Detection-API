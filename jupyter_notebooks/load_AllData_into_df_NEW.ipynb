{
 "cells": [
  {
   "cell_type": "code",
   "execution_count": 1,
   "metadata": {},
   "outputs": [],
   "source": [
    "import pandas as pd\n",
    "import os\n",
    "from nltk import word_tokenize\n",
    "from nltk.corpus import stopwords\n",
    "import re"
   ]
  },
  {
   "cell_type": "code",
   "execution_count": 2,
   "metadata": {},
   "outputs": [
    {
     "data": {
      "text/html": [
       "<div>\n",
       "<style scoped>\n",
       "    .dataframe tbody tr th:only-of-type {\n",
       "        vertical-align: middle;\n",
       "    }\n",
       "\n",
       "    .dataframe tbody tr th {\n",
       "        vertical-align: top;\n",
       "    }\n",
       "\n",
       "    .dataframe thead th {\n",
       "        text-align: right;\n",
       "    }\n",
       "</style>\n",
       "<table border=\"1\" class=\"dataframe\">\n",
       "  <thead>\n",
       "    <tr style=\"text-align: right;\">\n",
       "      <th></th>\n",
       "      <th>language</th>\n",
       "      <th>wikitext</th>\n",
       "    </tr>\n",
       "  </thead>\n",
       "  <tbody>\n",
       "    <tr>\n",
       "      <th>0</th>\n",
       "      <td>german</td>\n",
       "      <td>Paris Paris ist die Hauptstadt der Französisc...</td>\n",
       "    </tr>\n",
       "    <tr>\n",
       "      <th>1</th>\n",
       "      <td>romanian</td>\n",
       "      <td>Avrig Avrig în dialectul săsesc Frek Fraek în...</td>\n",
       "    </tr>\n",
       "    <tr>\n",
       "      <th>2</th>\n",
       "      <td>english</td>\n",
       "      <td>History of the Jews in Romania The history of...</td>\n",
       "    </tr>\n",
       "    <tr>\n",
       "      <th>3</th>\n",
       "      <td>french</td>\n",
       "      <td>La Roche-sur-Yon La Roche-sur-Yon est une com...</td>\n",
       "    </tr>\n",
       "  </tbody>\n",
       "</table>\n",
       "</div>"
      ],
      "text/plain": [
       "   language                                           wikitext\n",
       "0    german   Paris Paris ist die Hauptstadt der Französisc...\n",
       "1  romanian   Avrig Avrig în dialectul săsesc Frek Fraek în...\n",
       "2   english   History of the Jews in Romania The history of...\n",
       "3    french   La Roche-sur-Yon La Roche-sur-Yon est une com..."
      ]
     },
     "execution_count": 2,
     "metadata": {},
     "output_type": "execute_result"
    }
   ],
   "source": [
    "file_names = os.listdir('./training/clean/')\n",
    "# Create Dictionary for language (= File name) and Text -- rename the files such as: en_clean.txt = english etc.\n",
    "file_name_and_text = {}\n",
    "for file in file_names:\n",
    "    with open('./training/clean/' + file, \"r\",) as target_file:\n",
    "         file_name_and_text[file] = target_file.read()\n",
    "file_data = (pd.DataFrame.from_dict(file_name_and_text, orient='index')\n",
    "             .reset_index().rename(index = str, columns = {'index': 'language', 0: 'wikitext'}))\n",
    "file_data.head()"
   ]
  },
  {
   "cell_type": "code",
   "execution_count": 3,
   "metadata": {},
   "outputs": [
    {
     "data": {
      "text/html": [
       "<div>\n",
       "<style scoped>\n",
       "    .dataframe tbody tr th:only-of-type {\n",
       "        vertical-align: middle;\n",
       "    }\n",
       "\n",
       "    .dataframe tbody tr th {\n",
       "        vertical-align: top;\n",
       "    }\n",
       "\n",
       "    .dataframe thead th {\n",
       "        text-align: right;\n",
       "    }\n",
       "</style>\n",
       "<table border=\"1\" class=\"dataframe\">\n",
       "  <thead>\n",
       "    <tr style=\"text-align: right;\">\n",
       "      <th></th>\n",
       "      <th>language</th>\n",
       "      <th>wikitext</th>\n",
       "      <th>wikitext_tokenized</th>\n",
       "    </tr>\n",
       "  </thead>\n",
       "  <tbody>\n",
       "    <tr>\n",
       "      <th>0</th>\n",
       "      <td>german</td>\n",
       "      <td>Paris Paris ist die Hauptstadt der Französisc...</td>\n",
       "      <td>[paris, paris, ist, die, hauptstadt, der, fran...</td>\n",
       "    </tr>\n",
       "    <tr>\n",
       "      <th>1</th>\n",
       "      <td>romanian</td>\n",
       "      <td>Avrig Avrig în dialectul săsesc Frek Fraek în...</td>\n",
       "      <td>[avrig, avrig, în, dialectul, săsesc, frek, fr...</td>\n",
       "    </tr>\n",
       "    <tr>\n",
       "      <th>2</th>\n",
       "      <td>english</td>\n",
       "      <td>History of the Jews in Romania The history of...</td>\n",
       "      <td>[history, of, the, jews, in, romania, the, his...</td>\n",
       "    </tr>\n",
       "    <tr>\n",
       "      <th>3</th>\n",
       "      <td>french</td>\n",
       "      <td>La Roche-sur-Yon La Roche-sur-Yon est une com...</td>\n",
       "      <td>[la, roche-sur-yon, la, roche-sur-yon, est, un...</td>\n",
       "    </tr>\n",
       "  </tbody>\n",
       "</table>\n",
       "</div>"
      ],
      "text/plain": [
       "   language                                           wikitext  \\\n",
       "0    german   Paris Paris ist die Hauptstadt der Französisc...   \n",
       "1  romanian   Avrig Avrig în dialectul săsesc Frek Fraek în...   \n",
       "2   english   History of the Jews in Romania The history of...   \n",
       "3    french   La Roche-sur-Yon La Roche-sur-Yon est une com...   \n",
       "\n",
       "                                  wikitext_tokenized  \n",
       "0  [paris, paris, ist, die, hauptstadt, der, fran...  \n",
       "1  [avrig, avrig, în, dialectul, săsesc, frek, fr...  \n",
       "2  [history, of, the, jews, in, romania, the, his...  \n",
       "3  [la, roche-sur-yon, la, roche-sur-yon, est, un...  "
      ]
     },
     "execution_count": 3,
     "metadata": {},
     "output_type": "execute_result"
    }
   ],
   "source": [
    "# Function to Tokenize words\n",
    "def tokenize(text):\n",
    "    tokens = word_tokenize(text)\n",
    "    return tokens\n",
    "\n",
    "file_data['wikitext_tokenized'] = file_data['wikitext'].apply(lambda x: tokenize(x.lower())) \n",
    "#We convert to lower as Python is case-sensitive. \n",
    "\n",
    "file_data.head()"
   ]
  },
  {
   "cell_type": "code",
   "execution_count": 4,
   "metadata": {},
   "outputs": [
    {
     "name": "stdout",
     "output_type": "stream",
     "text": [
      "{'j', 'can', 'which', 'elle', 'meu', 'nişte', 'desi', 'sois', 'aia', 'isi', 'unseren', 'serions', 'welchen', 'oricare', 'man', 'pai', 'au', 'own', 'so', \"shouldn't\", 'wouldn', 'même', 'other', 'wollte', 'lângă', 'ihre', 'keinem', 'iar', 'mustn', 'zu', 'oriunde', 'avut', 'who', 'cam', 'putini', 'că', 'is', 'einen', 'könnte', 'derselben', 'mâine', 'her', 'sie', 'does', 'vostru', 'primul', 'acestei', 'altii', 'le', 'ţie', \"weren't\", 'damit', 'nur', 'şi', 'său', 'catre', 'ta', 'nichts', \"wasn't\", \"you've\", 'dintr-', 'v', 'such', 'étantes', 'eut', 'nous', 'cît', 'she', \"should've\", 'should', 'don', 'had', 'va', 'having', 'avec', 'iti', 'acei', 'sa', 'than', 'totusi', 'ain', 'war', 'sunt', 'pour', \"hadn't\", 'indem', 'eure', 'acestea', 'este', \"she's\", 'über', 'jede', 'fiecare', 'ni', 'tine', 'cea', \"couldn't\", 'by', 'zwischen', 'einem', 'acestui', 'ai', 'im', 'mai', 'îi', 'eu', 'acelea', 'pot', 'him', 'voştri', 'eures', 'soit', 'mon', 'manche', 'oder', 'hatten', 'an', 'now', 'étais', 'seriez', 'acea', 'ma', 'these', 'manchen', 'myself', 'manches', 'nach', 'dupa', 'am', 'ori', 'sind', 'spre', 'totuşi', 'same', 'un', 'sehr', 'eines', 'anderm', 'welches', 'diesem', 'dintre', 'vreo', 'sera', 'aveţi', 'y', 'printr-', 'eue', 'ihren', 'soyons', 'eusses', 'hers', \"won't\", 'hadn', 'alti', 'ceva', 'on', 'euch', 'din', 'incit', 'during', 'fără', 'as', 'aici', 'hasn', 'are', 'wenn', 'nun', 'sein', 'acela', 'asupra', 'notre', 'ar', 'welcher', 'toata', 'themselves', 'ces', 'fata', 'cărui', 'una', 'deinem', 'foarte', 'trei', 'ayante', 'que', 'est', 'dort', 'oricum', 'or', 'avem', 'hatte', 'mein', 'cumva', 'ăla', 'between', 'just', 'dieses', 'aceste', 'după', 'mi', 'sa-ti', 'zwar', 'eussent', 'noi', 'intre', 'if', 'eût', 'a', 'sai', 'seinen', 'eram', 'abia', 'above', 'under', 'ayez', 'jenem', 'both', 'theirs', 'celor', 'muss', \"that'll\", 'oricît', 'vi', 'eux', 'ălea', 'ăştia', 'further', 'fûtes', 'altcineva', 'won', 'all', 'für', 'oricât', 'doi', 'unuia', 'there', 'aceia', 'să', 'alta', 'tău', 'didn', 'atit', 'noua', 'atatea', 'because', 'about', 'um', 'cat', 'par', 'eurent', 've', 'il', 'aber', 'unsere', 'gewesen', 'ins', 'poate', 'o', 'jedem', 'während', 'machen', 'citiva', 'aceasta', 'noastre', 'mich', 'fussiez', 'u', 'können', 'once', 'ihm', 'ăstea', 'not', 'fara', 'euren', 'nimic', 'ea', 'dacă', 'i', 'welche', 'lor', 'fus', 'numai', 'einiger', 'manchem', 'les', 'soyez', 'drept', 'tocmai', 'for', 'fel', 'aceea', 'treia', 'des', 'keines', 'jedes', 'cite', 'ses', 'unde', 'through', 'itself', 'ce', 'diesen', 'în', 'but', 'durch', 'altceva', 'where', 'oricînd', 'face', 'patra', 'ihrer', 'dieselbe', 'fiţi', 'été', 'moi', 'kein', 'alt', 'cu', 'la', 'from', 'bin', 'puţin', 'then', 'dir', 'anderer', 'etwas', 'votre', \"mightn't\", 'at', 'unul', 'einer', 'our', 'you', 'cîţi', 'weg', 'aurais', 'dies', 'eurer', 'aie', 'sintem', 'deiner', \"aren't\", 'aller', 'decit', 'einiges', 'hin', 'ont', 'aura', 'waren', 'herself', 'of', 'câtva', 'voastre', 'caruia', \"needn't\", 'my', 'cand', 'seiner', 'wird', 'auf', 'meiner', 'el', 'too', 'being', 'dich', 'voastră', 'that', 'dessen', 'hab', 'ceea', 'nouă', 'eûmes', 'ii', 'euer', 'fûmes', 'serais', \"mustn't\", 'mightn', 'ayants', 'mais', 'mod', 'toată', 'qu', 'orice', 'oricând', 'der', 'more', 'atitea', 'li', 'meine', 'avions', 'atare', 'cita', 'ele', 'kann', 'avons', 'apoi', 'when', 'aurions', 'ich', 'jeder', 'ist', 'welchem', 'ours', 'étées', 'inca', 'îmi', 'vom', 'parca', 'selbst', 'musste', 'noch', 'îţi', 'deine', 'anderem', 'after', 'da', 'seras', 'eşti', 'they', 'vos', 'meines', 'do', 'eine', 'und', 'anderen', 'fusse', 'son', 'uns', 'asa', 'sont', 'very', 'ti', 'avez', \"hasn't\", 'dein', 'noştri', 'fussent', \"didn't\", 'tes', 'dă', 'why', 'how', 'auraient', 'ci', 'unele', 'niste', 'spate', 'citi', 'keinen', 'solchem', 'toi', 'shan', 'mir', 'était', 'fim', 'mea', 'mereu', 'isn', 'ait', 'această', 'tu', 'gegen', 'die', 'dazu', 'aurait', 'before', 'nostru', 'ayant', 'bist', 'fii', 'ca', 'derselbe', 'and', 'săi', 'ou', 'câte', 'toti', 'serait', 'mă', 'with', \"you'd\", 'ander', 'hier', 'needn', 'dar', 'jener', 'anders', 'couldn', 'nicht', 'seinem', 'auriez', 'unserem', 'ihr', 'nici', 'those', 'căror', 'mulţi', 'this', 'astfel', 'prima', 'aurez', 'ils', 'pentru', 'desselben', 'in', 'imi', 'von', 'fost', 'doar', 'patru', 'insa', 'einige', 'ale', 'aş', 'ihnen', 'he', 'până', 'acestia', 'oricine', 'êtes', 'altul', 'whom', 'few', 'aceşti', 'multa', 'dat', 'peste', 'below', 'bei', 'acest', 'noastră', 'ourselves', 'weiter', 'étant', 'will', 'puţină', 'asta', 'werden', 'chiar', 'seront', 'against', 'eusse', \"you're\", 'citeva', 'deasupra', 't', 'er', 'et', 'd', 'keiner', 'only', 'câţi', 'zum', 'mine', 'also', 'wo', 'denselben', \"it's\", 'mie', \"haven't\", 'ihres', 'allen', 'denn', 'altfel', 'auras', 'weil', 'haben', 'doesn', 'wie', 'ia', 'étée', 'ayantes', 'nos', 'your', 'multi', 'avait', 'pînă', 'eussions', 'anderes', 'multe', 'astea', 'auch', 'acel', 'most', 'cîtva', 'prin', 'leur', 'zice', 'étants', 'al', 'ei', 'up', 'we', 'atitia', 'étions', 'aus', 'uneia', 'als', 'dintr', 'were', 'its', 'unser', 'către', 'while', 'cât', 'his', 'en', 'ba', 'doch', 'mele', 'unor', 'care', 'dieser', 'eurem', 'their', 'inapoi', 'serez', 'doilea', 'mîine', 'totul', 'aţi', 'no', 'avais', 'daß', 'fût', 'cit', 'pina', 'seine', 'sich', 'auront', 'it', \"wouldn't\", 'unter', 'se', 'ohne', 'pic', 'cîte', 'andern', 'une', 'avea', 'cineva', 'anume', 'wir', 'tale', 'cind', 'carora', 'wasn', 'einmal', 'das', 'deci', 'sunteţi', 'been', 'have', 're', 'solchen', 'acele', 'himself', 'te', 'fut', 'alte', 'sonst', 'je', 'serai', 'lui', 'deinen', 'cei', 'jenen', 'mit', 'sa-mi', 'sale', 'pas', 'uneori', 'jenes', 'vă', 'wirst', 'zur', 'ihn', 'ala', 'derer', 'eûtes', 'sint', 'es', 'unu', 'l', 'mei', 'sollte', 'voi', 'm', 'wollen', 'unseres', 'mancher', 'unui', 'qui', 'eues', 'deşi', 'aceştia', 'puţina', 'sub', 'toate', 'cele', 'deines', 'sus', 'würden', 'avaient', 'nor', 'cine', 'jene', 'was', 'vouă', 'sau', 'vor', 'aux', 'de', 'jetzt', 'cînd', 'demselben', 'dieselben', 'here', 'll', 'sondern', 'alle', 'dată', 'einigem', 'ihrem', 'fi', 'mult', 'multă', 'andere', 'ne', 'cum', 'dann', 'aient', 'serons', 'intr', 'tuturor', 'anderr', 'aren', 'treilea', 'aies', 'diese', 'eus', 'did', 'out', 'sommes', 'aviez', 'off', 'era', 'cel', 'atatia', 'două', 'what', 'n', 'aurons', 'ton', 'acelasi', \"doesn't\", 'dem', 'căci', 'fie', 'zi', 'daca', 'haven', 'viel', 'étés', 'allem', 'wieder', 'étiez', 'vreun', 's', 'yourself', 'the', \"shan't\", 'aurai', 'nu', 'du', 'careia', 'undeva', 'lîngă', 'alles', 'ob', 'habe', 'solches', 'atat', 'yours', 'c', 'atata', 'e', 'ul', 'prea', 'si', 'dau', 'fiu', 'îl', 'yourselves', 'suntem', 'adica', 'vous', 'has', 'to', 'meinen', 'alea', 'again', 'any', 'fusses', 'würde', 'sur', 'soient', 'den', 'dans', 'deja', 'unei', 'toţi', 'ţi', 'them', 'shouldn', 'soll', 'ului', 'me', 'bis', 'inainte', 'until', 'à', 'despre', 'warst', 'seraient', 'ăsta', 'each', 'ceilalti', \"isn't\", 'hinter', 'unii', 'ayons', 'fussions', 'down', 'jeden', 'werde', 'into', 'tot', 'keine', 'be', 'mes', 'dasselbe', 'cui', 'meinem', 'aibă', 'atita', 'seines', 'solche', 'weren', 'einigen', 'nostri', 'étaient', 'hat', 'unora', 'some', 'suis', \"don't\", 'dass', 'étante', 'tăi', 'nou', 'pe', 'doing', 'ein', 'acesta', 'eussiez', 'atunci', 'ati', 'solcher', \"you'll\", 'furent', 'over', 'cărei', 'nimeni', 'einig', 'aceeasi'}\n"
     ]
    }
   ],
   "source": [
    "sw1 = set(stopwords.words('romanian'))\n",
    "sw2 = set(stopwords.words('english'))\n",
    "sw3 = set(stopwords.words('german'))\n",
    "sw4 = set(stopwords.words('french'))\n",
    "stop_words=set()\n",
    "stop_words=stop_words.union(sw1,sw2,sw3,sw4)\n",
    "print(stop_words)\n"
   ]
  },
  {
   "cell_type": "code",
   "execution_count": 5,
   "metadata": {},
   "outputs": [
    {
     "data": {
      "text/html": [
       "<div>\n",
       "<style scoped>\n",
       "    .dataframe tbody tr th:only-of-type {\n",
       "        vertical-align: middle;\n",
       "    }\n",
       "\n",
       "    .dataframe tbody tr th {\n",
       "        vertical-align: top;\n",
       "    }\n",
       "\n",
       "    .dataframe thead th {\n",
       "        text-align: right;\n",
       "    }\n",
       "</style>\n",
       "<table border=\"1\" class=\"dataframe\">\n",
       "  <thead>\n",
       "    <tr style=\"text-align: right;\">\n",
       "      <th></th>\n",
       "      <th>language</th>\n",
       "      <th>wikitext</th>\n",
       "      <th>wikitext_tokenized</th>\n",
       "      <th>wikitext_nostop</th>\n",
       "    </tr>\n",
       "  </thead>\n",
       "  <tbody>\n",
       "    <tr>\n",
       "      <th>0</th>\n",
       "      <td>german</td>\n",
       "      <td>Paris Paris ist die Hauptstadt der Französisc...</td>\n",
       "      <td>[paris, paris, ist, die, hauptstadt, der, fran...</td>\n",
       "      <td>[paris, paris, hauptstadt, französischen, repu...</td>\n",
       "    </tr>\n",
       "    <tr>\n",
       "      <th>1</th>\n",
       "      <td>romanian</td>\n",
       "      <td>Avrig Avrig în dialectul săsesc Frek Fraek în...</td>\n",
       "      <td>[avrig, avrig, în, dialectul, săsesc, frek, fr...</td>\n",
       "      <td>[avrig, avrig, dialectul, săsesc, frek, fraek,...</td>\n",
       "    </tr>\n",
       "    <tr>\n",
       "      <th>2</th>\n",
       "      <td>english</td>\n",
       "      <td>History of the Jews in Romania The history of...</td>\n",
       "      <td>[history, of, the, jews, in, romania, the, his...</td>\n",
       "      <td>[history, jews, romania, history, jews, romani...</td>\n",
       "    </tr>\n",
       "    <tr>\n",
       "      <th>3</th>\n",
       "      <td>french</td>\n",
       "      <td>La Roche-sur-Yon La Roche-sur-Yon est une com...</td>\n",
       "      <td>[la, roche-sur-yon, la, roche-sur-yon, est, un...</td>\n",
       "      <td>[roche-sur-yon, roche-sur-yon, commune, centre...</td>\n",
       "    </tr>\n",
       "  </tbody>\n",
       "</table>\n",
       "</div>"
      ],
      "text/plain": [
       "   language                                           wikitext  \\\n",
       "0    german   Paris Paris ist die Hauptstadt der Französisc...   \n",
       "1  romanian   Avrig Avrig în dialectul săsesc Frek Fraek în...   \n",
       "2   english   History of the Jews in Romania The history of...   \n",
       "3    french   La Roche-sur-Yon La Roche-sur-Yon est une com...   \n",
       "\n",
       "                                  wikitext_tokenized  \\\n",
       "0  [paris, paris, ist, die, hauptstadt, der, fran...   \n",
       "1  [avrig, avrig, în, dialectul, săsesc, frek, fr...   \n",
       "2  [history, of, the, jews, in, romania, the, his...   \n",
       "3  [la, roche-sur-yon, la, roche-sur-yon, est, un...   \n",
       "\n",
       "                                     wikitext_nostop  \n",
       "0  [paris, paris, hauptstadt, französischen, repu...  \n",
       "1  [avrig, avrig, dialectul, săsesc, frek, fraek,...  \n",
       "2  [history, jews, romania, history, jews, romani...  \n",
       "3  [roche-sur-yon, roche-sur-yon, commune, centre...  "
      ]
     },
     "execution_count": 5,
     "metadata": {},
     "output_type": "execute_result"
    }
   ],
   "source": [
    "# Function to remove Stopwords\n",
    "def remove_stopwords(tokenized_list):\n",
    "    text = [word for word in tokenized_list if word not in stop_words]# To remove all stopwords\n",
    "    return text\n",
    "\n",
    "file_data['wikitext_nostop'] = file_data['wikitext_tokenized'].apply(lambda x: remove_stopwords(x))\n",
    "file_data.head()"
   ]
  },
  {
   "cell_type": "code",
   "execution_count": null,
   "metadata": {},
   "outputs": [],
   "source": []
  }
 ],
 "metadata": {
  "kernelspec": {
   "display_name": "Python 3",
   "language": "python",
   "name": "python3"
  },
  "language_info": {
   "codemirror_mode": {
    "name": "ipython",
    "version": 3
   },
   "file_extension": ".py",
   "mimetype": "text/x-python",
   "name": "python",
   "nbconvert_exporter": "python",
   "pygments_lexer": "ipython3",
   "version": "3.6.9"
  }
 },
 "nbformat": 4,
 "nbformat_minor": 2
}
